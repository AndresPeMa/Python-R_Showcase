{
 "cells": [
  {
   "cell_type": "markdown",
   "id": "51824cee",
   "metadata": {},
   "source": [
    "# Parking Problem, and Eating a Magic Cake\n",
    "\n",
    "## Andres Perez Mtz (worked in a group)\n",
    "(7.5/5) 2.5 extra points"
   ]
  },
  {
   "cell_type": "markdown",
   "id": "77670ca3",
   "metadata": {},
   "source": [
    "### Question 1\n",
    "Solve the parking problem from the midterm in fewer than 20 lines of code.  (I did it in six; anyone coming in with ten or fewer lines will get 2.5 points extra credit.). You can truncate the state space to go from -100 to +100.  Don't forget: the state is something like (-13, open) or (-13, no_spot)"
   ]
  },
  {
   "cell_type": "code",
   "execution_count": 1,
   "id": "226a83f0",
   "metadata": {},
   "outputs": [
    {
     "name": "stderr",
     "output_type": "stream",
     "text": [
      "ERROR: Could not install packages due to an OSError: [WinError 5] Access is denied: 'd:\\\\applications\\\\python\\\\scripts\\\\pip.exe'\n",
      "Consider using the `--user` option or check the permissions.\n",
      "\n"
     ]
    },
    {
     "name": "stdout",
     "output_type": "stream",
     "text": [
      "Requirement already satisfied: pip in d:\\applications\\python\\lib\\site-packages (21.2.4)\n",
      "Collecting pip\n",
      "  Downloading pip-23.0.1-py3-none-any.whl (2.1 MB)\n",
      "Installing collected packages: pip\n",
      "  Attempting uninstall: pip\n",
      "    Found existing installation: pip 21.2.4\n",
      "    Uninstalling pip-21.2.4:\n"
     ]
    },
    {
     "name": "stderr",
     "output_type": "stream",
     "text": [
      "Script file 'D:\\Applications\\Python\\Scripts\\pip-script.py' is not present.\n"
     ]
    },
    {
     "ename": "ModuleNotFoundError",
     "evalue": "No module named 'interpolation'",
     "output_type": "error",
     "traceback": [
      "\u001b[1;31m---------------------------------------------------------------------------\u001b[0m",
      "\u001b[1;31mModuleNotFoundError\u001b[0m                       Traceback (most recent call last)",
      "Input \u001b[1;32mIn [1]\u001b[0m, in \u001b[0;36m<cell line: 9>\u001b[1;34m()\u001b[0m\n\u001b[0;32m      7\u001b[0m \u001b[38;5;28;01mimport\u001b[39;00m \u001b[38;5;21;01mnumpy\u001b[39;00m \u001b[38;5;28;01mas\u001b[39;00m \u001b[38;5;21;01mnp\u001b[39;00m\n\u001b[0;32m      8\u001b[0m \u001b[38;5;28;01mimport\u001b[39;00m \u001b[38;5;21;01mquantecon\u001b[39;00m \u001b[38;5;28;01mas\u001b[39;00m \u001b[38;5;21;01mqe\u001b[39;00m\n\u001b[1;32m----> 9\u001b[0m \u001b[38;5;28;01mfrom\u001b[39;00m \u001b[38;5;21;01minterpolation\u001b[39;00m \u001b[38;5;28;01mimport\u001b[39;00m interp\n\u001b[0;32m     10\u001b[0m \u001b[38;5;28;01mfrom\u001b[39;00m \u001b[38;5;21;01mscipy\u001b[39;00m\u001b[38;5;21;01m.\u001b[39;00m\u001b[38;5;21;01moptimize\u001b[39;00m \u001b[38;5;28;01mimport\u001b[39;00m minimizer_scalar, bisect\n\u001b[0;32m     11\u001b[0m \u001b[38;5;28;01mfrom\u001b[39;00m \u001b[38;5;21;01mquantecon\u001b[39;00m\u001b[38;5;21;01m.\u001b[39;00m\u001b[38;5;21;01moptimize\u001b[39;00m \u001b[38;5;28;01mimport\u001b[39;00m brentq\n",
      "\u001b[1;31mModuleNotFoundError\u001b[0m: No module named 'interpolation'"
     ]
    }
   ],
   "source": [
    "!pip install --upgrade pip\n",
    "!pip install interpolation\n",
    "\n",
    "%matplotlib inline\n",
    "import matplotlib.pyplot as plt\n",
    "plt.rcParams[\"figure.figsize\"] = (11, 5)  #set default figure size\n",
    "import numpy as np\n",
    "import quantecon as qe\n",
    "from interpolation import interp\n",
    "from scipy.optimize import minimizer_scalar, bisect\n",
    "from quantecon.optimize import brentq\n",
    "from numba import njit, float64\n",
    "from numba.experimental import jitclass"
   ]
  },
  {
   "cell_type": "code",
   "execution_count": null,
   "id": "1d10407a",
   "metadata": {},
   "outputs": [],
   "source": [
    "n, no_spot, p, max_iter = 100,-500,0.20,1000\n",
    "V = [-abs(np.arange(-n,n+1)),no_spot*np.ones(2*n+1)]\n",
    "\n",
    "for i in range(max_iter):\n",
    "    V[0][:n],V[1][:-1] =np.maximum(V[0][:n],p*V[0][1:n+1]+(1-p)*V[1][1:n+1]), p*V[0][1:]+(1-p)*V[1][1:]\n",
    "print(\"Park Here or Next Spot:\",V[0][0])"
   ]
  },
  {
   "cell_type": "markdown",
   "id": "72774ff3",
   "metadata": {},
   "source": [
    "### Question 2\n",
    "You have this utility function:\n",
    "\n",
    "$$E\\left[\\sum_{t=0}^\\infty \\beta^tu(c_t)\\right] $$\n",
    "\n",
    "and a nice genie has given you a magic cake.  Its maximal size is 10 .  You get to eat a piece of any size from the cake.  The genie waves her magic wand over night, and she shocks the cake with a multiplicative random variable \n",
    "whose logarithm is independently and identically distributed $N(\\mu,\\sigma^2)$. Your goal is to maximize expected utility.\n",
    "\n",
    "Describe this problem as a dynamic program:\n",
    "\n",
    "What is the state?\n",
    "What is the control?\n",
    "What is the law of motion?\n",
    "What is the reward?\n",
    "What is the discount factor?\n",
    "Write Bellman's equation for this problem.\n",
    "\n",
    "Assume that \n",
    "\n",
    "$$u(c)= \\frac{c^{1-r}-1}{1-r}$$ \n",
    "\n",
    "for $r \\ge 0$. Fix $r = 2$, $\\beta$ = 0.97, $\\mu=-0.005$, and $\\sigma=0.1$. Using np.random.seed(1234), generate a fixed sequence of 250 log normally distributed random variables. Use what Sargent calls time iteration to solve this dynamic program.  You can work together.  Please indicate joint submissions clearly.  You will find a lot of code on Sargent's web page that will help you with aspects of this problem.  Here are some hints:  (1) generate a fixed sequence of shocks; (2) use the method euler_diff from the lecture on Coleman's method, adapted to the cake eating problem; and (3) you will need to use Monte Carlo integration to compute the expected marginal felicity from consuming next period's cake.  My algorithm converged after 626 iterations; so you may have to increase max_iter.\n",
    "\n",
    " \n",
    "\n"
   ]
  },
  {
   "cell_type": "code",
   "execution_count": null,
   "id": "919d161f",
   "metadata": {},
   "outputs": [],
   "source": [
    "def maximize(g, a, b, args):\n",
    "    \"\"\"\n",
    "    Maximize the function g over the interval [a, b].\n",
    "\n",
    "    We use the fact that the maximizer of g on any interval is\n",
    "    also the minimizer of -g.  The tuple args collects any extra\n",
    "    arguments to g.\n",
    "\n",
    "    Returns the maximal value and the maximizer.\n",
    "    \"\"\"\n",
    "\n",
    "    objective = lambda x: -g(x, *args)\n",
    "    result = minimize_scalar(objective, bounds=(a, b), method='bounded')\n",
    "    maximizer, maximum = result.x, -result.fun\n",
    "    return maximizer, maximum"
   ]
  },
  {
   "cell_type": "code",
   "execution_count": null,
   "id": "c35abb81",
   "metadata": {},
   "outputs": [],
   "source": [
    "def K(σ_array, ce):\n",
    "    \"\"\"\n",
    "    The policy function operator. Given the policy function,\n",
    "    it updates the optimal consumption using Euler equation.\n",
    "\n",
    "    * σ_array is an array of policy function values on the grid\n",
    "    * ce is an instance of CakeEating\n",
    "\n",
    "    \"\"\"\n",
    "\n",
    "    u_prime, β, x_grid = ce.u_prime, ce.β, ce.x_grid\n",
    "    σ_new = np.empty_like(σ_array)\n",
    "    \n",
    "    seed = 1234\n",
    "    np.random.seed(seed)\n",
    "    shock_size = 250 \n",
    "    μ = -0.005\n",
    "    s = 0.1\n",
    "    shocks = np.exp(μ + s * np.random.randn(shock_size))\n",
    "    \n",
    "    #σ = lambda x: interp(x_grid, σ_array, x)\n",
    "\n",
    "    def euler_diff(c, x):\n",
    "        σ_func = lambda x: interp(x_grid, σ_array, x)\n",
    "        vals = u_prime(σ_func((x-c) * shocks))\n",
    "        return u_prime(c) - β * np.mean(vals)\n",
    "\n",
    "    for i, x in enumerate(x_grid):\n",
    "\n",
    "        # handle small x separately --- helps numerical stability\n",
    "        if x < 1e-12:\n",
    "            σ_new[i] = 0.0\n",
    "\n",
    "        # handle other x\n",
    "        else:\n",
    "            σ_new[i] = bisect(euler_diff, 1e-10, x - 1e-10, x)\n",
    "\n",
    "    return σ_new"
   ]
  },
  {
   "cell_type": "code",
   "execution_count": null,
   "id": "32f54e46",
   "metadata": {},
   "outputs": [],
   "source": [
    "class CakeEating:\n",
    "\n",
    "    def __init__(self,\n",
    "                 β=0.97,           # discount factor\n",
    "                 γ=2,            # degree of relative risk aversion\n",
    "                 x_grid_min=1e-3,  # exclude zero for numerical stability\n",
    "                 x_grid_max=10,   # size of cake\n",
    "                 x_grid_size=120):\n",
    "\n",
    "        self.β, self.γ = β, γ\n",
    "\n",
    "        # Set up grid\n",
    "        self.x_grid = np.linspace(x_grid_min, x_grid_max, x_grid_size)\n",
    "\n",
    "    # Utility function\n",
    "    def u(self, c):\n",
    "\n",
    "        γ = self.γ\n",
    "\n",
    "        if γ == 1:\n",
    "            return np.log(c)\n",
    "        else:\n",
    "            return (c ** (1 - γ)) / (1 - γ)\n",
    "\n",
    "    # first derivative of utility function\n",
    "    def u_prime(self, c):\n",
    "\n",
    "        return c ** (-self.γ)\n",
    "\n",
    "    def state_action_value(self, c, x, v_array):\n",
    "        \"\"\"\n",
    "        Right hand side of the Bellman equation given x and c.\n",
    "        \"\"\"\n",
    "\n",
    "        u, β = self.u, self.β\n",
    "        v = lambda x: interp(self.x_grid, v_array, x)\n",
    "\n",
    "        return u(c) + β * v(x - c)"
   ]
  },
  {
   "cell_type": "code",
   "execution_count": null,
   "id": "e9e0af01",
   "metadata": {},
   "outputs": [],
   "source": [
    "def iterate_euler_equation(ce,\n",
    "                           max_iter=5000,\n",
    "                           tol=1e-5,\n",
    "                           verbose=True,\n",
    "                           print_skip=25):\n",
    "\n",
    "    x_grid = ce.x_grid\n",
    "\n",
    "    σ = np.copy(x_grid)        # initial guess\n",
    "\n",
    "    i = 0\n",
    "    error = tol + 1\n",
    "    while i < max_iter and error > tol:\n",
    "\n",
    "        σ_new = K(σ, ce)\n",
    "\n",
    "        error = np.max(np.abs(σ_new - σ))\n",
    "        i += 1\n",
    "\n",
    "        if verbose and i % print_skip == 0:\n",
    "            print(f\"Error at iteration {i} is {error}.\")\n",
    "\n",
    "        σ = σ_new\n",
    "\n",
    "    if error > tol:\n",
    "        print(\"Failed to converge!\")\n",
    "    elif verbose:\n",
    "        print(f\"\\nConverged in {i} iterations.\")\n",
    "\n",
    "    return σ"
   ]
  },
  {
   "cell_type": "code",
   "execution_count": null,
   "id": "4c2dbccb",
   "metadata": {},
   "outputs": [],
   "source": [
    "ce = CakeEating(x_grid_min = 0.0)\n",
    "c_euler = iterate_euler_equation(ce)"
   ]
  },
  {
   "cell_type": "code",
   "execution_count": null,
   "id": "a2bf2fa2",
   "metadata": {},
   "outputs": [],
   "source": [
    "def c_star(x, β, γ):\n",
    "    \n",
    "    return(1 - β **(1/γ)) * x\n",
    "\n",
    "c_analytical = c_star(ce.x_grid, ce.β, ce.γ)"
   ]
  },
  {
   "cell_type": "code",
   "execution_count": null,
   "id": "a082204f",
   "metadata": {},
   "outputs": [],
   "source": [
    "fig, ax = plt.subplots()\n",
    "\n",
    "ax.plot(ce.x_grid, c_analytical, label='Analytical Solution')\n",
    "ax.plot(ce.x_grid, c_euler, label='Time Iteration Solution')\n",
    "\n",
    "ax.set_ylabel('Sonsumption')\n",
    "ax.set_xlabel('$X$')\n",
    "ax.legend(fontsize=12)\n",
    "\n",
    "plt.show()"
   ]
  },
  {
   "cell_type": "code",
   "execution_count": null,
   "id": "c76fb97b",
   "metadata": {},
   "outputs": [],
   "source": []
  }
 ],
 "metadata": {
  "kernelspec": {
   "display_name": "Python 3 (ipykernel)",
   "language": "python",
   "name": "python3"
  },
  "language_info": {
   "codemirror_mode": {
    "name": "ipython",
    "version": 3
   },
   "file_extension": ".py",
   "mimetype": "text/x-python",
   "name": "python",
   "nbconvert_exporter": "python",
   "pygments_lexer": "ipython3",
   "version": "3.9.12"
  }
 },
 "nbformat": 4,
 "nbformat_minor": 5
}
