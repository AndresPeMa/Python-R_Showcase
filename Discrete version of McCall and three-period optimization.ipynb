{
 "cells": [
  {
   "cell_type": "markdown",
   "id": "69e6c58d",
   "metadata": {},
   "source": [
    "# Discrete version of McCall and three-period optimization\n",
    "\n",
    "## Andres Perez (worked with group)\n",
    "(5/5)"
   ]
  },
  {
   "cell_type": "markdown",
   "id": "3da3d520",
   "metadata": {},
   "source": [
    "## Question 1\n",
    "Solve a discrete versions of McCall's model.  There are three job offers $70,000, $85,000, and $75,000. Unemployment insurance is worth $30,000, and the discount factor is $\\beta=0.9$. In the base case, the wage offers are independent of the state, and the transition matrix is given by:\n",
    "\n",
    "$$\\begin{bmatrix}\n",
    "1/3, 1/3, 1/3\\\\\n",
    "1/3, 1/3, 1/3\\\\\n",
    "1/3, 1/3, 1/3\n",
    "\\end{bmatrix}$$\n",
    "\n",
    "In a second case, the transition matrix is:\n",
    "\n",
    "$$\\begin{bmatrix}\n",
    "0.8, 0.2, 0.0\\\\\n",
    "0.5, 0.5, 0.0\\\\\n",
    "0.0, 0.7, 0.3\n",
    "\\end{bmatrix}$$\n",
    "\n",
    "What is a realistic interpretation of the second case?"
   ]
  },
  {
   "cell_type": "code",
   "execution_count": 103,
   "id": "e075ac6a",
   "metadata": {},
   "outputs": [],
   "source": [
    "import scipy.stats\n",
    "import numpy as np\n",
    "import matplotlib.pyplot as plt\n",
    "import pandas as pd\n",
    "import quantecon as qe\n",
    "from scipy.optimize import bisect\n",
    "import scipy as sp\n",
    "import scipy.optimize as opt"
   ]
  },
  {
   "cell_type": "code",
   "execution_count": 104,
   "id": "4bb8139d",
   "metadata": {},
   "outputs": [],
   "source": [
    "States = ['Low', 'Medium', 'High']\n",
    "Controls = ['Do not take','Take']\n",
    "r = np.array([[30000,70000],[30000,85000],[30000,100000]])\n",
    "M0 = np.array([[1/3,1/3,1/3],[1/3,1/3,1/3],[1/3,1/3,1/3]])\n",
    "M1 = np.identity(3)\n",
    "transition = {'Do not take': M0, 'Take': M1}\n",
    "β=0.9"
   ]
  },
  {
   "cell_type": "code",
   "execution_count": 105,
   "id": "bfe5bfe4",
   "metadata": {},
   "outputs": [],
   "source": [
    "class DP_Markov():\n",
    "\n",
    "    \"\"\"\n",
    "    \n",
    "    This class solves a dynamic program whose transition rule can be described \n",
    "    by a list of Markov matrices, one for each element of the control set U.\n",
    "    The Bellman equation is:\n",
    "\n",
    "           V(x_t) = max_{u_t \\in U} (r(x_t,u_t) + β EV(x_{t+1}|(x_t,u_t)))\n",
    "    \n",
    "    and the transition rule is a Markov matrix \n",
    "    \n",
    "            M(u)\n",
    "            \n",
    "    that depends upon the control u \\in U\n",
    "\n",
    "    Parameters\n",
    "    ----------\n",
    "    β : scalar\n",
    "        the discount factor must be in [0,1)\n",
    "    max_iter : int\n",
    "        Maximum number of iterations for the value function solution\n",
    "    ϵ : scalar\n",
    "        Convergence parameter.\n",
    "    X: list\n",
    "        Names of the states\n",
    "    U: list\n",
    "        Names of the controls\n",
    "    r: array\n",
    "        function giving reward in state, control\n",
    "    g: dictionary\n",
    "        One Markov matrix for each control\n",
    "\n",
    "    \"\"\"\n",
    " \n",
    "    def __init__(self, \n",
    "                 β=0.9, \n",
    "                 max_iter=10_000, \n",
    "                 ϵ=10e-5, \n",
    "                 X = ['70,000', '85,000', '100,000'], \n",
    "                 U = ['Reject','Accept'],\n",
    "                 r=np.array([[30000,70000],[30000,85000],[30000,100000]]),\n",
    "                 g = {'Reject':np.identity(3), 'Accept':np.identity(3)}):\n",
    "        \n",
    "        self.β=β\n",
    "        self.max_iter=max_iter\n",
    "        self.ϵ=ϵ\n",
    "        self.X=X\n",
    "        self.U=U\n",
    "        self.r=r\n",
    "        self.g=g\n",
    "    \n",
    "\n",
    "    def check(self):\n",
    "        \"\"\"\n",
    "        The value function has n elements\n",
    "        The control set has m elements\n",
    "        The reward function is an n x m matrix\n",
    "        The transition is a list of m Markov matrices, each with dimesnion n x n\n",
    "        The discount factor must satisfy 0 <= beta < 1\n",
    "        \"\"\"\n",
    "        n=len(self.X)\n",
    "        m=len(self.U)\n",
    "        if np.array(self.r).shape != (n,m): print(\"The reward function is not well defined.\") \n",
    "        if len(self.g) != m: \n",
    "            print(\"There is not the requisite number of transition matrices.\")\n",
    "        if not all(self.g[control].shape == (n,n) for control in self.U):\n",
    "            print(\"At least one of the Markov transitions is of the wrong dimension.\")\n",
    "        if not all(np.ones(n)@self.g[control]@np.ones(n) == n for control in self.U):\n",
    "            print(\"Give me a break! One of the transition matrices is not Markov.\")\n",
    "        if not all((self.g[control]>=0).all() and (transition[control]<=1).all() for control in self.U):\n",
    "            print(\"Give me a break! The elements of the transition matrices are not probabilities.\")   \n",
    "        if beta < 0  or beta >= 1:\n",
    "            print(\"Something is wrong with the discount factor.\")\n",
    "        \n",
    "        return print(\"I have completed the required checks.\")\n",
    "\n",
    "\n",
    "\n",
    "    def summary(self):\n",
    "        print('Summary\\n' + '-' * 50)\n",
    "        print(f'The discount factor is: {self.β}')\n",
    "        print(f'The set of states is: {self.X}')\n",
    "        print(f'The set of controls is: {self.U}')\n",
    "        print(f'The reward function is: {self.r}')\n",
    "        print(f'The transition rule is: {self.g}')\n",
    "\n",
    "\n",
    "    def _next_state_probs(self,x,u):\n",
    "        \"\"\"\n",
    "        This function takes the state set, the control set, and the list of transition matrices\n",
    "        It returns the relevant row of the transition matrix in state x, when control u is chosen.\n",
    "    \n",
    "        \"\"\"\n",
    "        return self.g[u][self.X.index(x)]\n",
    "              \n",
    "    def _next_value(self,value):\n",
    "        \"\"\"\n",
    "        This function iterates on the value function using the Bellman equation.\n",
    "    \n",
    "        \"\"\"\n",
    "        v_next=[]\n",
    "        for state in self.X:\n",
    "            bellman=[]\n",
    "            for control in self.U:\n",
    "                probs=self._next_state_probs(state,control) \n",
    "                #self._next... because I need to call another function within the class\n",
    "                bellman.append(self.r[self.X.index(state),self.U.index(control)]\n",
    "                +self.β*(value@probs))\n",
    "            v_next.append(max(bellman))\n",
    "            \n",
    "        return v_next\n",
    "\n",
    "    \n",
    "    def solve(self):\n",
    "        \"\"\"\n",
    "        Solves by repeated iteration on the value function.\n",
    "        \n",
    "        \"\"\"\n",
    "        value=np.zeros(len(self.X)) #start with zero value function\n",
    "        check=1.0 #check for convergence\n",
    "        iter=0 #count iterations\n",
    "        while check > self.ϵ:\n",
    "            v1 = np.array(self._next_value(value))\n",
    "            check=max(abs(value-v1))\n",
    "            value = v1 #reset the value function\n",
    "            iter += 1 #advance the counter\n",
    "            if(iter > self.max_iter): #get out of Dodge, if we are in an infinite loop\n",
    "                print(\"Algorithm did not converge\")\n",
    "                break\n",
    "        return value \n",
    "    \n",
    "    def policy(self,value):\n",
    "        \"\"\"\n",
    "        \n",
    "        Given the value function, one can compute the optimal policy.\n",
    "        \n",
    "        \"\"\"\n",
    "        policy=[]\n",
    "        for state in States:\n",
    "            z=[]\n",
    "            for control in Controls:\n",
    "                probs=self._next_state_probs(state,control)\n",
    "                z.append(self.r[self.X.index(state),self.U.index(control)]\n",
    "                +beta*(value@probs))\n",
    "            policy.append(Controls[z.index(max(z))])\n",
    "        return policy\n",
    "    \n",
    "    def ergodic(self,policy):\n",
    "        \"\"\"\n",
    "        \n",
    "        Given the policy, we can compute the ergodic distribution of states\n",
    "        \n",
    "        \"\"\"\n",
    "        P=np.empty_like(self.g[self.U[0]])\n",
    "        for state in self.X:\n",
    "            i=self.X.index(state)\n",
    "            P[i,:]=self.g[policy[i]][i,:]\n",
    "        from quantecon import MarkovChain\n",
    "        mc = qe.MarkovChain(P)\n",
    "        p_stationary=mc.stationary_distributions  # Show all stationary distributions\n",
    "        return p_stationary\n",
    "    \n",
    "    def answer(self):\n",
    "        answer=pd.DataFrame(self.r, self.X, self.U)\n",
    "        value=self.solve()\n",
    "        answer['Value function']=np.around(value,2)\n",
    "        policy=self.policy(value)\n",
    "        answer['Optimal policy'] = policy\n",
    "        p_stationary = self.ergodic(policy)\n",
    "        if len(p_stationary) > 1: \n",
    "            print(\"There are multiple invariant distributions.\")\n",
    "        else:\n",
    "            answer['Ergodic distribution'] = p_stationary[0]\n",
    "        \n",
    "        print(answer)\n",
    "        return"
   ]
  },
  {
   "cell_type": "code",
   "execution_count": 106,
   "id": "6e88358f",
   "metadata": {},
   "outputs": [
    {
     "name": "stdout",
     "output_type": "stream",
     "text": [
      "There are multiple invariant distributions.\n",
      "        Do not take    Take  Value function Optimal policy\n",
      "Low           30000   70000       835714.28    Do not take\n",
      "Medium        30000   85000       850000.00           Take\n",
      "High          30000  100000      1000000.00           Take\n"
     ]
    }
   ],
   "source": [
    "betsy = DP_Markov(X=States, U=Controls, r=reward, g=transition).answer()"
   ]
  },
  {
   "cell_type": "markdown",
   "id": "b840680b",
   "metadata": {},
   "source": [
    "## Independent Case"
   ]
  },
  {
   "cell_type": "code",
   "execution_count": 107,
   "id": "b4efa7e6",
   "metadata": {},
   "outputs": [],
   "source": [
    "States = ['Low', 'Medium', 'High']\n",
    "Controls = ['Do not take','Take']\n",
    "r = np.array([[30000,70000],[30000,85000],[30000,100000]])\n",
    "M2 = np.array([[0.8,0.2,0.0],[0.5,0.5,0.0],[0.0,0.7,0.3]])\n",
    "M1 = np.identity(3)\n",
    "transition = {'Do not take': M2, 'Take': M1}\n",
    "β=0.9"
   ]
  },
  {
   "cell_type": "code",
   "execution_count": 108,
   "id": "16c02d03",
   "metadata": {},
   "outputs": [
    {
     "name": "stdout",
     "output_type": "stream",
     "text": [
      "There are multiple invariant distributions.\n",
      "        Do not take    Take  Value function Optimal policy\n",
      "Low           30000   70000        700000.0           Take\n",
      "Medium        30000   85000        850000.0           Take\n",
      "High          30000  100000       1000000.0           Take\n"
     ]
    }
   ],
   "source": [
    "betsy2 = DP_Markov(X=States, U=Controls, r=reward, g=transition).answer()"
   ]
  },
  {
   "cell_type": "markdown",
   "id": "e13567c2",
   "metadata": {},
   "source": [
    "A realistic interpretation for the second, independent, case is that the time in which somebody is born or goes into the labor force has a big influence in their lifetime earnings. So we're basically saying, all else equal, if somebody starts working when the economy is booming then their lifetime earnings will, most likely, be higher than those who started working when the economy was down. "
   ]
  },
  {
   "cell_type": "markdown",
   "id": "9a0db24e",
   "metadata": {},
   "source": [
    "# Question 2\n",
    "\n",
    "Extend the professor's code that solves for optimal savings and investment from two periods to three periods.  Show what happens to savings in each period as the agent becomes more patient (larger) , as the agent's savings decision become more responsive to interest rate changes (smaller), and as total factor productivity increases (larger). Nice tables or graphics get full credit."
   ]
  },
  {
   "cell_type": "code",
   "execution_count": 122,
   "id": "19ec35fd",
   "metadata": {},
   "outputs": [],
   "source": [
    "def prod(k):\n",
    "    return A*k**alpha  #A is a special A and a is alpha\n",
    "\n",
    "def time_0(c):\n",
    "    return prod(k0)-c[0]\n",
    "\n",
    "def time_1(c):\n",
    "    k1 = prod(k0)-c[0]\n",
    "    return prod(k1)-c[1]\n",
    "\n",
    "def time_2(c):\n",
    "    k1 = prod(k0)-c[0]\n",
    "    k2 = prod(k1)-c[1]\n",
    "    return prod(k2)-c[2]\n",
    "\n",
    "def utility(c):\n",
    "    u=0\n",
    "    T = len(c)\n",
    "    if Q == 1:\n",
    "        for i in range(T):\n",
    "            u += Beta**i * np.log(c[i])\n",
    "    else:\n",
    "        for i in range(T):\n",
    "            u += Beta**i * (c[i]**(1-Q)-1)/(1-Q)\n",
    "    return u\n",
    "\n",
    "\n",
    "\n",
    "def objective(c):\n",
    "    return -utility(c)\n",
    "\n",
    "def MRS(c):\n",
    "    T = len(c)\n",
    "    MRS = []\n",
    "    if Q == 1:\n",
    "        for i in range(T):\n",
    "            MRS.append(Beta**i/c[i])\n",
    "    else:\n",
    "        for i in range(T):\n",
    "            MRS.append(Beta**i * c[i]**(-Q))\n",
    "    return MRS\n",
    "\n",
    "def objective(c):\n",
    "    return -utility(c)                "
   ]
  },
  {
   "cell_type": "code",
   "execution_count": 123,
   "id": "11ed3dd9",
   "metadata": {},
   "outputs": [
    {
     "data": {
      "text/plain": [
       "     fun: -5.3669368898747\n",
       "     jac: array([-0.2183032 , -0.18225431, -0.13588363])\n",
       " message: 'Optimization terminated successfully'\n",
       "    nfev: 66\n",
       "     nit: 16\n",
       "    njev: 16\n",
       "  status: 0\n",
       " success: True\n",
       "       x: array([5.42472303, 5.89694948, 7.26882408])"
      ]
     },
     "execution_count": 123,
     "metadata": {},
     "output_type": "execute_result"
    }
   ],
   "source": [
    "A = 6\n",
    "k0 = 2\n",
    "alpha = 0.33\n",
    "Beta = 0.9\n",
    "Q = 0.9\n",
    "\n",
    "c0 = [1.0,1.0,1.0]\n",
    "bnds = ([0.1, 200], [0.1, 200], [0.1, 200])\n",
    "\n",
    "cons = ( {\"type\": \"ineq\", \"fun\" : time_0}, {\"type\": \"ineq\", \"fun\": time_1}, {\"type\": \"eq\", \"fun\": time_2})\n",
    "\n",
    "u= opt.minimize(objective,c0, bounds = bnds, constraints=cons)   #if I get rid of last import then it says opt is not defined\n",
    "u"
   ]
  },
  {
   "cell_type": "code",
   "execution_count": 124,
   "id": "9911e824",
   "metadata": {},
   "outputs": [
    {
     "name": "stdout",
     "output_type": "stream",
     "text": [
      "The present price vector is [1.   0.83 0.62]\n",
      "Gross interest rates are [1.198 1.341]\n",
      "The consumption plan is [5.42 5.9  7.27]\n"
     ]
    }
   ],
   "source": [
    "c = u.x\n",
    "prices = MRS(c)\n",
    "prices = prices/prices[0]\n",
    "print(\"The present price vector is\", np.round(prices,2))\n",
    "print(\"Gross interest rates are\", np.round([1/prices[1],prices[1]/prices[2]],3))\n",
    "print(\"The consumption plan is\", np.round(c,2))"
   ]
  },
  {
   "cell_type": "code",
   "execution_count": 128,
   "id": "d2dddd8b",
   "metadata": {},
   "outputs": [],
   "source": [
    "def PS7(A, Beta, Q, k0, alpha):\n",
    "    \n",
    "    def prod(k):\n",
    "        return A*k**alpha  #A is a special A and a is alpha\n",
    "\n",
    "    def time_0(c):\n",
    "        return prod(k0)-c[0]\n",
    "\n",
    "    def time_1(c):\n",
    "        k1 = prod(k0)-c[0]\n",
    "        return prod(k1)-c[1]\n",
    "\n",
    "    def time_2(c):\n",
    "        k1 = prod(k0)-c[0]\n",
    "        k2 = prod(k1)-c[1]\n",
    "        return prod(k2)-c[2]\n",
    "    \n",
    "    def utility(c):\n",
    "        u = 0\n",
    "        T = len(c)\n",
    "        if Q == 1:\n",
    "            for i in range(T):\n",
    "                u += Beta**i * np.log(c[i])\n",
    "        else:\n",
    "            for i in range(T):\n",
    "                u += Beta**i * (c[i]**(1-Q)-1)/(1-Q)\n",
    "        return u\n",
    "    \n",
    "    def objective(c):\n",
    "        return -utility(c)\n",
    "        \n",
    "\n",
    "    def MRS(c):\n",
    "        T = len(c)\n",
    "        MRS =[]\n",
    "        if Q == 1:\n",
    "            for i in range(T):\n",
    "                MRS.append(Beta**i/c[i])\n",
    "        else:\n",
    "            for i in range(T):\n",
    "                MRS.append(Beta**i * c[i]**(-Q))\n",
    "        return MRS\n",
    "    \n",
    "    def objective(c):\n",
    "        return -utility(c)\n",
    "    \n",
    "    c0 = [1.0,1.0,1.0]\n",
    "    bnds = ([0.1,200], [0.1,200], [0.1,200])\n",
    "    \n",
    "    cons = (\n",
    "    {'type': 'ineq','fun': time_0},\n",
    "    {'type': 'ineq','fun': time_1},\n",
    "    {'type': 'eq','fun': time_2}\n",
    "        )\n",
    "    \n",
    "    u = opt.minimize(objective,c0,bounds=bnds,constraints=cons)\n",
    "    c=u.x\n",
    "    prices=MRS(c)\n",
    "    interest_rates = [prices[0]/prices[1],prices[1]/prices[2]]\n",
    "    \n",
    "    if u['success']==True:\n",
    "        return(interest_rates)\n",
    "    else:\n",
    "        return(\"Problem optimizing\")"
   ]
  },
  {
   "cell_type": "markdown",
   "id": "93eb9df3",
   "metadata": {},
   "source": [
    "## Implementation 1"
   ]
  },
  {
   "cell_type": "code",
   "execution_count": 129,
   "id": "d1f71596",
   "metadata": {},
   "outputs": [],
   "source": [
    "A = [5,5.5,6,6.5]\n",
    "results1 = [PS7(a, Beta = 0.9, Q = 0.9, k0 = 2, alpha = 0.33) for a in A]"
   ]
  },
  {
   "cell_type": "code",
   "execution_count": 155,
   "id": "d1a43401",
   "metadata": {},
   "outputs": [
    {
     "data": {
      "image/png": "[encoded data removed]",
      "text/plain": [
       "<Figure size 432x288 with 1 Axes>"
      ]
     },
     "metadata": {
      "needs_background": "light"
     },
     "output_type": "display_data"
    }
   ],
   "source": [
    "data = results1\n",
    "X = np.arange(2)\n",
    "fig = plt.figure()\n",
    "ax = fig.add_axes([0,0,1,1])\n",
    "ax.bar(X + 0.00, data[0], color = \"lightblue\", width = 0.2)\n",
    "ax.bar(X + 0.20, data[1], color = \"gold\", width = 0.2)\n",
    "ax.bar(X + 0.4, data[2], color = \"darkseagreen\", width = 0.2)\n",
    "ax.bar(X + 0.6, data[3], color = \"coral\", width = 0.2)\n",
    "ax.legend(labels = [\"A=5\",\"A=5.5\", \"A=6\", \"A=6.5\"])\n",
    "ax.set_xlabel(\"Two periods\")\n",
    "ax.set_ylabel(\"Gross interest rates\")\n",
    "ax.set_xticks(np.arange(2)+0.3)\n",
    "ax.set_xticklabels((\"First\",\"Second\"))\n",
    "ax.set_title(\"Effect of the Marginal Product of Capital\")\n",
    "ax.set_ylim(1.05, 1.4)\n",
    "plt.show()"
   ]
  },
  {
   "cell_type": "markdown",
   "id": "bb1ad7fd",
   "metadata": {},
   "source": [
    "## Implementation 2"
   ]
  },
  {
   "cell_type": "code",
   "execution_count": 133,
   "id": "07114489",
   "metadata": {},
   "outputs": [],
   "source": [
    "B = [0.6, 0.7, 0.8, 0.9]\n",
    "results2 = [PS7(A=6.0, Beta=b, Q=0.9, k0=2, alpha=0.33) for b in B]"
   ]
  },
  {
   "cell_type": "code",
   "execution_count": 154,
   "id": "2fec47a0",
   "metadata": {
    "scrolled": true
   },
   "outputs": [
    {
     "data": {
      "image/png": "[encoded data removed]",
      "text/plain": [
       "<Figure size 432x288 with 1 Axes>"
      ]
     },
     "metadata": {
      "needs_background": "light"
     },
     "output_type": "display_data"
    }
   ],
   "source": [
    "data = results2\n",
    "X = np.arange(2)\n",
    "fig = plt.figure()\n",
    "ax = fig.add_axes([0,0,1,1])\n",
    "ax.bar(X + 0.0, data[0], color = \"lightblue\", width = 0.2)\n",
    "ax.bar(X + 0.20, data[1], color = \"gold\", width = 0.2)\n",
    "ax.bar(X + 0.4, data[2], color = \"darkseagreen\", width = 0.2)\n",
    "ax.bar(X + 0.6, data[3], color = \"coral\", width = 0.2)\n",
    "ax.legend(labels = [r\"$\\beta=0.6$\",r\"$\\beta=0.7$\", r\"$\\beta=0.8$\", r\"$\\beta=0.9$\"])\n",
    "ax.set_xlabel(\"Two periods\")\n",
    "ax.set_ylabel(\"Gross interest rates\")\n",
    "ax.set_xticks(np.arange(2)+0.3)\n",
    "ax.set_xticklabels((\"First\",\"Second\"))\n",
    "ax.set_title(\"Effect of the Marginal Product of Capital\")\n",
    "ax.set_ylim(1.05, 1.4)\n",
    "plt.show()"
   ]
  },
  {
   "cell_type": "markdown",
   "id": "b2b9841b",
   "metadata": {},
   "source": [
    "## Implementation 3"
   ]
  },
  {
   "cell_type": "code",
   "execution_count": 135,
   "id": "b653f422",
   "metadata": {},
   "outputs": [],
   "source": [
    "R = [0.9, 1, 9, 81]\n",
    "results3 = [PS7(A=6.0, Beta=0.9, Q=r, k0=2, alpha=0.33) for r in R]"
   ]
  },
  {
   "cell_type": "code",
   "execution_count": 153,
   "id": "2be90bc1",
   "metadata": {},
   "outputs": [
    {
     "data": {
      "image/png": "[encoded data removed]",
      "text/plain": [
       "<Figure size 432x288 with 1 Axes>"
      ]
     },
     "metadata": {
      "needs_background": "light"
     },
     "output_type": "display_data"
    }
   ],
   "source": [
    "data = results3\n",
    "X = np.arange(2)\n",
    "fig = plt.figure()\n",
    "ax = fig.add_axes([0,0,1,1])\n",
    "ax.bar(X + 0.0, data[0], color = \"lightblue\", width = 0.2)\n",
    "ax.bar(X + 0.20, data[1], color = \"gold\", width = 0.2)\n",
    "ax.bar(X + 0.4, data[2], color = \"darkseagreen\", width = 0.2)\n",
    "ax.bar(X + 0.6, data[3], color = \"coral\", width = 0.2)\n",
    "ax.legend(labels = [r\"$\\rho=0.9$\",r\"$\\rho=1$\", r\"$\\rho==9$\", r\"$\\rho=81$\"])\n",
    "ax.set_xlabel(\"Two periods\")\n",
    "ax.set_ylabel(\"Gross interest rates\")\n",
    "ax.set_xticks(np.arange(2)+0.3)\n",
    "ax.set_xticklabels((\"First\",\"Second\"))\n",
    "ax.set_title(\"Effect of the Marginal Product of Capital\")\n",
    "ax.set_ylim(1.05, 1.4)\n",
    "plt.show()"
   ]
  }
 ],
 "metadata": {
  "kernelspec": {
   "display_name": "Python 3 (ipykernel)",
   "language": "python",
   "name": "python3"
  },
  "language_info": {
   "codemirror_mode": {
    "name": "ipython",
    "version": 3
   },
   "file_extension": ".py",
   "mimetype": "text/x-python",
   "name": "python",
   "nbconvert_exporter": "python",
   "pygments_lexer": "ipython3",
   "version": "3.9.12"
  }
 },
 "nbformat": 4,
 "nbformat_minor": 5
}
